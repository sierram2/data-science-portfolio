{
 "cells": [
  {
   "cell_type": "code",
   "execution_count": null,
   "id": "17b6d02b-07ad-43a2-b41d-af3ebf7bbabf",
   "metadata": {},
   "outputs": [],
   "source": [
    "import pandas as pd\n",
    "import seaborn as sns\n",
    "import matplotlib.pyplot as plt\n",
    "\n",
    "# Load the 'mtcars' dataset from seaborn's repository\n",
    "url = 'https://raw.githubusercontent.com/selva86/datasets/master/mtcars.csv'\n",
    "df = pd.read_csv(url)\n",
    "\n",
    "# Basic scatter plot: Horsepower vs. MPG\n",
    "plt.figure(figsize=(8, 5))\n",
    "sns.scatterplot(data=df, x='hp', y='mpg', hue='cyl', palette='viridis')\n",
    "\n",
    "# Add labels and title\n",
    "plt.title('Horsepower vs. MPG')\n",
    "plt.xlabel('Horsepower (hp)')\n",
    "plt.ylabel('Miles per Gallon (mpg)')\n",
    "\n",
    "# Show plot\n",
    "plt.tight_layout()\n",
    "plt.show()"
   ]
  }
 ],
 "metadata": {
  "kernelspec": {
   "display_name": "Python 3 (ipykernel)",
   "language": "python",
   "name": "python3"
  },
  "language_info": {
   "codemirror_mode": {
    "name": "ipython",
    "version": 3
   },
   "file_extension": ".py",
   "mimetype": "text/x-python",
   "name": "python",
   "nbconvert_exporter": "python",
   "pygments_lexer": "ipython3",
   "version": "3.12.9"
  }
 },
 "nbformat": 4,
 "nbformat_minor": 5
}
